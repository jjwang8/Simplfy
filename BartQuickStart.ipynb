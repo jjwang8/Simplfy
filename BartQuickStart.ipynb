{
  "nbformat": 4,
  "nbformat_minor": 0,
  "metadata": {
    "colab": {
      "provenance": []
    },
    "kernelspec": {
      "name": "python3",
      "display_name": "Python 3"
    },
    "language_info": {
      "name": "python"
    },
    "accelerator": "GPU",
    "gpuClass": "standard"
  },
  "cells": [
    {
      "cell_type": "code",
      "execution_count": null,
      "metadata": {
        "colab": {
          "base_uri": "https://localhost:8080/"
        },
        "id": "kY22jPCklXen",
        "outputId": "89d9305b-6daf-4dce-9d3e-f43897cbf22c"
      },
      "outputs": [
        {
          "output_type": "stream",
          "name": "stdout",
          "text": [
            "Looking in indexes: https://pypi.org/simple, https://us-python.pkg.dev/colab-wheels/public/simple/\n",
            "Collecting sentencepiece\n",
            "  Downloading sentencepiece-0.1.97-cp39-cp39-manylinux_2_17_x86_64.manylinux2014_x86_64.whl (1.3 MB)\n",
            "\u001b[2K     \u001b[90m━━━━━━━━━━━━━━━━━━━━━━━━━━━━━━━━━━━━━━━━\u001b[0m \u001b[32m1.3/1.3 MB\u001b[0m \u001b[31m21.1 MB/s\u001b[0m eta \u001b[36m0:00:00\u001b[0m\n",
            "\u001b[?25hInstalling collected packages: sentencepiece\n",
            "Successfully installed sentencepiece-0.1.97\n"
          ]
        }
      ],
      "source": [
        "!pip install sentencepiece"
      ]
    },
    {
      "cell_type": "code",
      "source": [
        "import torch\n",
        "    \n",
        "# Print the PyTorch version number\n",
        "print(\"PyTorch version:\", torch.__version__)"
      ],
      "metadata": {
        "colab": {
          "base_uri": "https://localhost:8080/"
        },
        "id": "W1bgvo2NmEX8",
        "outputId": "68667a7e-4b0a-47e8-b7c5-7b2c223c793c"
      },
      "execution_count": null,
      "outputs": [
        {
          "output_type": "stream",
          "name": "stdout",
          "text": [
            "PyTorch version: 1.13.1+cu116\n"
          ]
        }
      ]
    },
    {
      "cell_type": "code",
      "source": [
        "from transformers import AutoTokenizer, BartForConditionalGeneration\n",
        "\n",
        "model = BartForConditionalGeneration.from_pretrained(\"facebook/bart-large-cnn\")\n",
        "tokenizer = AutoTokenizer.from_pretrained(\"facebook/bart-large-cnn\")\n",
        "\n",
        "if torch.cuda.is_available():\n",
        "    device = torch.device(\"cuda\")\n",
        "    print(\"Running on the GPU\")\n",
        "else:\n",
        "    device = torch.device(\"cpu\")\n",
        "    print(\"Running on the CPU\")\n",
        "\n",
        "model = model.to(device)\n",
        "ARTICLE_TO_SUMMARIZE = (\n",
        "    \"On March 24, 2023, severe weather and a tornado outbreak began affecting portions of the lower Mississippi River Valley in the United States. A slow-moving trough moved eastward across the United States and interacted with the moist and unstable environment from the Gulf of Mexico, resulting in widespread heavy rainfall, severe thunderstorms, and significant tornadoes lasting four days. A violent low-end EF4 tornado took a path through the towns of Rolling Fork, Midnight, and Silver City in western Mississippi, causing catastrophic damage and many fatalities. Multiple tornado emergencies were issued for that tornado and two subsequent EF3 tornadoes from the same supercell that struck Winona and Amory\"\n",
        ")\n",
        "inputs = tokenizer([ARTICLE_TO_SUMMARIZE], max_length=1024, return_tensors=\"pt\").to(device)\n",
        "\n",
        "# Generate Summary\n",
        "summary_ids = model.generate(inputs[\"input_ids\"], num_beams=2, min_length=0, max_length=500)\n",
        "tokenizer.batch_decode(summary_ids, skip_special_tokens=True, clean_up_tokenization_spaces=False)[0]"
      ],
      "metadata": {
        "colab": {
          "base_uri": "https://localhost:8080/",
          "height": 90
        },
        "id": "ZtHB5s30l6Ue",
        "outputId": "e3729e58-c74e-4eaa-e774-4f9ced2c9008"
      },
      "execution_count": null,
      "outputs": [
        {
          "output_type": "stream",
          "name": "stdout",
          "text": [
            "Running on the GPU\n"
          ]
        },
        {
          "output_type": "stream",
          "name": "stderr",
          "text": [
            "Truncation was not explicitly activated but `max_length` is provided a specific value, please use `truncation=True` to explicitly truncate examples to max length. Defaulting to 'longest_first' truncation strategy. If you encode pairs of sequences (GLUE-style) with the tokenizer you can select this strategy more precisely by providing a specific strategy to `truncation`.\n"
          ]
        },
        {
          "output_type": "execute_result",
          "data": {
            "text/plain": [
              "'Severe weather and a tornado outbreak began affecting portions of the lower Mississippi River Valley on March 24, 2023. A violent low-end EF4 tornado took a path through the towns of Rolling Fork, Midnight, and Silver City in western Mississippi.'"
            ],
            "application/vnd.google.colaboratory.intrinsic+json": {
              "type": "string"
            }
          },
          "metadata": {},
          "execution_count": 39
        }
      ]
    },
    {
      "cell_type": "code",
      "source": [
        "ARTICLE_TO_SUMMARIZE = (\n",
        "    \"On March 24, 2023, severe weather and a tornado outbreak began affecting portions of the lower Mississippi River Valley in the United States. A slow-moving trough moved eastward across the United States and interacted with the moist and unstable environment from the Gulf of Mexico, resulting in widespread heavy rainfall, severe thunderstorms, and significant tornadoes lasting four days. A violent low-end EF4 tornado took a path through the towns of Rolling Fork, Midnight, and Silver City in western Mississippi, causing catastrophic damage and many fatalities. Multiple tornado emergencies were issued for that tornado and two subsequent EF3 tornadoes from the same supercell that struck Winona and Amory\"\n",
        ")\n",
        "inputs = tokenizer([ARTICLE_TO_SUMMARIZE], max_length=1024, return_tensors=\"pt\").to(device)\n",
        "\n",
        "# Generate Summary\n",
        "summary_ids = model.generate(inputs[\"input_ids\"], num_beams=2, min_length=0, max_length=500)\n",
        "tokenizer.batch_decode(summary_ids, skip_special_tokens=True, clean_up_tokenization_spaces=False)[0]"
      ],
      "metadata": {
        "colab": {
          "base_uri": "https://localhost:8080/",
          "height": 35
        },
        "id": "Ikm0BEuTrGj5",
        "outputId": "edee5f49-a4cb-49ea-cdb0-f6c16c64a5ba"
      },
      "execution_count": null,
      "outputs": [
        {
          "output_type": "execute_result",
          "data": {
            "text/plain": [
              "'Severe weather and a tornado outbreak began affecting portions of the lower Mississippi River Valley on March 24, 2023. A violent low-end EF4 tornado took a path through the towns of Rolling Fork, Midnight, and Silver City in western Mississippi.'"
            ],
            "application/vnd.google.colaboratory.intrinsic+json": {
              "type": "string"
            }
          },
          "metadata": {},
          "execution_count": 40
        }
      ]
    }
  ]
}